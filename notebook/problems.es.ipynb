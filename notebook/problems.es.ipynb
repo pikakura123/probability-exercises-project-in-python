{
 "cells": [
  {
   "cell_type": "markdown",
   "id": "a41f3622",
   "metadata": {},
   "source": [
    "# Ejercicios de probabilidad"
   ]
  },
  {
   "cell_type": "markdown",
   "id": "a6bdbd89",
   "metadata": {},
   "source": [
    "## Ejercicio 1 \n",
    "\n",
    "Dos dados se lanzan una vez y se observa el total obtenido. Usa una simulación para encontrar la probabilidad estimada de que la puntuación sea mayor a 7 o un número par. Una simulación es una repetición del mismo experimento multiples veces para observar su comportamiento:\n",
    "\n",
    "- Ejecuta el experimento 1000 veces (lanza 2 dados 1000 veces, y suma el número de ambos dados).\n",
    "- Lleva ua cuenta de los números y las veces que la suma fue mayor a 7 o un número par.\n",
    "- Divide el número del paso 2 entre el número de iteraciones(1000)."
   ]
  },
  {
   "cell_type": "code",
   "execution_count": 7,
   "id": "8939d892",
   "metadata": {},
   "outputs": [
    {
     "name": "stdout",
     "output_type": "stream",
     "text": [
      "0.68\n"
     ]
    }
   ],
   "source": [
    "# TODO\n",
    "import numpy as np\n",
    "\n",
    "d1 = [1,2,3,4,5,6]\n",
    "\n",
    "resultado = np.random.choice(d1, 2).sum()\n",
    "trials = 1000\n",
    "acum = 0\n",
    "\n",
    "for i in range(trials):\n",
    "    resultado = np.random.choice(d1, 2).sum()\n",
    "    if (resultado % 2 == 0) or (resultado > 7):\n",
    "        acum = acum + 1    \n",
    "division = acum/trials\n",
    "print(division)"
   ]
  },
  {
   "cell_type": "markdown",
   "id": "55732bca",
   "metadata": {},
   "source": [
    "## Ejercicio 2\n",
    "\n",
    "Una caja contiene 10 bolas blancas, 20 bolas rojas y 30 bolas verdes. Si tomamos 5 bolas de la caja reemplazándolas (tomando una bola, anotando el color y luego regresandola a la caja). Queremos saber la probabilidad de:\n",
    "\n",
    "1. Tomar 3 blancas y 2 rojas.\n",
    "2. Toas todas del mismo color.\n",
    "\n",
    "Ejecuta el experimento 1000 veces y calcula las probabilidades que mencionadas."
   ]
  },
  {
   "cell_type": "code",
   "execution_count": null,
   "id": "23244d20",
   "metadata": {},
   "outputs": [
    {
     "name": "stdout",
     "output_type": "stream",
     "text": [
      "0.004\n",
      "0.035\n"
     ]
    }
   ],
   "source": [
    "import numpy as np\n",
    "\n",
    "\n",
    "\n",
    "caja = [\"rojo\"]*20 + [\"verdes\"]*30 + [\"blancas\"]*10\n",
    "\n",
    "\n",
    "k = 5\n",
    "trials = 1000\n",
    "acum_1 = 0\n",
    "acum_2 = 0\n",
    "\n",
    "for i in range(trials):\n",
    "    muestra = np.random.choice(caja, size=k, replace=True)\n",
    "    blancas = (np.array(muestra) == \"blancas\").sum()\n",
    "    rojos = (np.array(muestra) == \"rojo\").sum()\n",
    "    verdes = (np.array(muestra) == \"verdes\").sum()\n",
    "    \n",
    "    if (blancas == 3) and (rojos == 2):\n",
    "        acum_1 += 1\n",
    "        \n",
    "    if (blancas == 5) or (rojos == 5) or (verdes == 5):\n",
    "        acum_2 += 1  \n",
    "\n",
    "\n",
    "print(acum_1 / trials)\n",
    "print(acum_2 / trials)\n",
    "\n",
    "#comentario\n",
    "\n",
    "\n",
    "\n",
    "\n"
   ]
  },
  {
   "cell_type": "code",
   "execution_count": 20,
   "id": "ec60a7a1",
   "metadata": {},
   "outputs": [
    {
     "data": {
      "text/plain": [
       "np.int64(4)"
      ]
     },
     "execution_count": 20,
     "metadata": {},
     "output_type": "execute_result"
    }
   ],
   "source": [
    "(np.array([\"rojo\",\"rojo\",\"rojo\",\"rojo\",\"rojo\",\"rojo\",\"verde\",\"verde\",\"verde\",\"verde\"])==\"verde\").sum()"
   ]
  }
 ],
 "metadata": {
  "kernelspec": {
   "display_name": "Python 3",
   "language": "python",
   "name": "python3"
  },
  "language_info": {
   "codemirror_mode": {
    "name": "ipython",
    "version": 3
   },
   "file_extension": ".py",
   "mimetype": "text/x-python",
   "name": "python",
   "nbconvert_exporter": "python",
   "pygments_lexer": "ipython3",
   "version": "3.11.4"
  }
 },
 "nbformat": 4,
 "nbformat_minor": 5
}
